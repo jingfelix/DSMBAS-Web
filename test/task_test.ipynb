{
 "cells": [
  {
   "cell_type": "code",
   "execution_count": 2,
   "metadata": {},
   "outputs": [
    {
     "name": "stdout",
     "output_type": "stream",
     "text": [
      "True\n",
      "2\n"
     ]
    }
   ],
   "source": [
    "# 获取task\n",
    "\n",
    "import requests\n",
    "import os\n",
    "SECRET_KEY = \"secret\"\n",
    "\n",
    "response = requests.get(\n",
    "    url=\"http://127.0.0.1:5000/e/gettask\",\n",
    "    data={\n",
    "        \"key\": SECRET_KEY,\n",
    "    },\n",
    ")\n",
    "\n",
    "status = response.json().get(\"status\")\n",
    "id = response.json().get(\"task\", None)\n",
    "print(status)\n",
    "print(id)"
   ]
  },
  {
   "cell_type": "code",
   "execution_count": 3,
   "metadata": {},
   "outputs": [
    {
     "name": "stdout",
     "output_type": "stream",
     "text": [
      "200\n"
     ]
    }
   ],
   "source": [
    "response = requests.get(\n",
    "    url=\"http://127.0.0.1:5000/e/download\",\n",
    "    data={\n",
    "        \"key\": SECRET_KEY,\n",
    "        \"task\": id,\n",
    "    },\n",
    ")\n",
    "print(response.status_code)\n",
    "if response.status_code == 200:\n",
    "    with open(str(id) + \".exe\", \"wb\") as f:\n",
    "        f.write(response.content)"
   ]
  },
  {
   "cell_type": "code",
   "execution_count": 4,
   "metadata": {},
   "outputs": [
    {
     "name": "stdout",
     "output_type": "stream",
     "text": [
      "Success Hooked!\n",
      "200\n",
      "{\n",
      "  \"msg\": \"Task ended.\",\n",
      "  \"status\": true\n",
      "}\n",
      "\n",
      "\n"
     ]
    }
   ],
   "source": [
    "import os\n",
    "\n",
    "cmd = f\"D:\\Study_Related\\senior-3-autumn\\sec-design\\Injector\\\\x64\\Debug\\Injector.exe D:\\Code\\Python\\APIserver\\\\test\\\\{id}.exe\" \n",
    "print(os.popen(cmd).read())\n",
    "\n"
   ]
  },
  {
   "cell_type": "code",
   "execution_count": null,
   "metadata": {},
   "outputs": [],
   "source": [
    "print(\"OK\")"
   ]
  }
 ],
 "metadata": {
  "kernelspec": {
   "display_name": "Python 3.10.0 64-bit",
   "language": "python",
   "name": "python3"
  },
  "language_info": {
   "codemirror_mode": {
    "name": "ipython",
    "version": 3
   },
   "file_extension": ".py",
   "mimetype": "text/x-python",
   "name": "python",
   "nbconvert_exporter": "python",
   "pygments_lexer": "ipython3",
   "version": "3.10.0"
  },
  "orig_nbformat": 4,
  "vscode": {
   "interpreter": {
    "hash": "4b6624dcd11dfe1ef91a27a3c68eca5d6a3b4c6ab066e50cbe96ae4c88af72f0"
   }
  }
 },
 "nbformat": 4,
 "nbformat_minor": 2
}
